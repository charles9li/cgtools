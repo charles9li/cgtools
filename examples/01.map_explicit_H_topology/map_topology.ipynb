{
 "cells": [
  {
   "cell_type": "markdown",
   "id": "8711c910",
   "metadata": {},
   "source": [
    "## Mapping an explicit-hydrogen atomistic topology to a coarse-grained topology\n",
    "\n",
    "In this example, we're going to learn how to use the TopologyMapper class to map an atomistic topology to a coarse-grained one."
   ]
  },
  {
   "cell_type": "code",
   "execution_count": 1,
   "id": "de4d51f5",
   "metadata": {},
   "outputs": [
    {
     "name": "stdout",
     "output_type": "stream",
     "text": [
      "> Preparing to load module geomlib\n",
      "> Found binary for source of module geomlib\n",
      "> Finished loading module geomlib (took 0.001 s)\n",
      "> Preparing to load module maplib\n",
      "> Found binary for source of module maplib\n",
      "> Finished loading module maplib (took 0.000 s)\n",
      "> openmm or mdtraj did not load; these features will not work!\n"
     ]
    }
   ],
   "source": [
    "import mdtraj as md\n",
    "\n",
    "from cgtools.mapping import TopologyMapper"
   ]
  },
  {
   "cell_type": "markdown",
   "id": "cc3c4fd9",
   "metadata": {},
   "source": [
    "Initialize a `TopologyMapper` object using either an `mdtraj.Topology` object or a path to a pdb file. The topology in this pdb file has two water molecules, two dodecane molecules, and two poly butyl acrylate (PBA) 5-mers, "
   ]
  },
  {
   "cell_type": "code",
   "execution_count": 2,
   "id": "65200b08",
   "metadata": {},
   "outputs": [],
   "source": [
    "# using pdb file\n",
    "tm = TopologyMapper(\"solution.pdb\")\n",
    "\n",
    "# using mdtraj.Topology object\n",
    "top = md.load(\"solution.pdb\").topology\n",
    "tm = TopologyMapper(top)"
   ]
  },
  {
   "cell_type": "markdown",
   "id": "1384e679",
   "metadata": {},
   "source": [
    "We will introduce a number of different ways to map residues. For the water residues, which are named `H2O` in the pdb file, we will perform the simplest mapping possible by mapping the residue to a single bead with the same name."
   ]
  },
  {
   "cell_type": "code",
   "execution_count": 3,
   "id": "37d5aa6d",
   "metadata": {},
   "outputs": [],
   "source": [
    "tm.add_residue_map('H2O', 'H2O')"
   ]
  },
  {
   "cell_type": "markdown",
   "id": "67ccb4d6",
   "metadata": {},
   "source": [
    "For the dodecane molecules, which are named `DOD` in the pdb file, we demonstrate a number of ways to map each residue. For this first mapping, we can map the entire dodecane molecule to a single bead."
   ]
  },
  {
   "cell_type": "code",
   "execution_count": 4,
   "id": "466fccb4",
   "metadata": {},
   "outputs": [],
   "source": [
    "tm.add_residue_map('DOD', 'DOD')"
   ]
  },
  {
   "cell_type": "markdown",
   "id": "6df97ee5",
   "metadata": {},
   "source": [
    "For the next possible mapping dodecane, we use a two-bead mapping for each residue where each bead has the name `C6` and represents 6 heavy (non-H) atoms. The second argument is now a list of strings and we have to pass a list for the value of a an argument called `n_heavy_atoms_per_cg_bead`, which indicates the number of heavy atoms mapped to each CG bead."
   ]
  },
  {
   "cell_type": "code",
   "execution_count": 5,
   "id": "88e0b47c",
   "metadata": {},
   "outputs": [],
   "source": [
    "tm.add_residue_map('DOD',\n",
    "                   ['C6', 'C6'],\n",
    "                   n_heavy_atoms_per_cg_bead=[6, 6],\n",
    "                   replace=True)"
   ]
  },
  {
   "cell_type": "markdown",
   "id": "8db5da3c",
   "metadata": {},
   "source": [
    "Note that we had to pass `replace=True` keyword argument because a mapping for the `DOD` residue already existed in the `TopologyMapper` object."
   ]
  },
  {
   "cell_type": "markdown",
   "id": "c69d561d",
   "metadata": {},
   "source": [
    "For the final mapping we will consider for dodecane, we map dodecane to a 3-bead model."
   ]
  },
  {
   "cell_type": "code",
   "execution_count": 6,
   "id": "017221f9",
   "metadata": {},
   "outputs": [],
   "source": [
    "tm.add_residue_map('DOD',\n",
    "                   ['C4', 'C4', 'C4'],\n",
    "                   n_heavy_atoms_per_cg_bead=[4, 4, 4],\n",
    "                   replace=True)"
   ]
  },
  {
   "cell_type": "markdown",
   "id": "a9cf78e6",
   "metadata": {},
   "source": [
    "We will stick with this mapping for the rest of this example.\n",
    "\n",
    "For the poly butyl acrylate 5-mers, each chain has 5 residues named `A4`, each of which represent a monomer in the chain.\n",
    "We map each monomer to two beads, where the acrylate group is represented by a bead named `Bpba` and the acrylate bead is represented by the same `C4` bead used in the dodecane."
   ]
  },
  {
   "cell_type": "code",
   "execution_count": 7,
   "id": "b2daef41",
   "metadata": {},
   "outputs": [],
   "source": [
    "tm.add_residue_map('A4',\n",
    "                   ['Bpba', 'C4'],\n",
    "                   n_heavy_atoms_per_cg_bead=[5, 4])"
   ]
  },
  {
   "cell_type": "markdown",
   "id": "3768173c",
   "metadata": {},
   "source": [
    "Once all of the mappings have been added, we can call the `create_map` method to create the mapping for the topology."
   ]
  },
  {
   "cell_type": "code",
   "execution_count": 8,
   "id": "65213814",
   "metadata": {},
   "outputs": [],
   "source": [
    "tm.create_map()"
   ]
  },
  {
   "cell_type": "markdown",
   "id": "d470008c",
   "metadata": {},
   "source": [
    "After the mapping is created, we can access information about the CG system with the attributes `cg_beads` and `cg_bonds`.\n",
    "The `cg_beads` attributes returns an iterator that iterates through `CGBead` objects. For each `CGBead` object, the `index` attribute indicates the index of the bead in the CG topology, the `name` attribute gives the name of the bead, and the `aa_indices` and `aa_masses` attributes give the indices of atoms in the AA topology that map to the bead and the masses of the atomistic atoms."
   ]
  },
  {
   "cell_type": "code",
   "execution_count": 9,
   "id": "78d8228e",
   "metadata": {},
   "outputs": [
    {
     "name": "stdout",
     "output_type": "stream",
     "text": [
      "Bead 0 : Bpba\n",
      "    AA indices : [ 0  9 10  1 11  2  3  4]\n",
      "    AA masses  : [12.01078   1.007947  1.007947 12.01078   1.007947 12.01078  15.99943\n",
      " 15.99943 ]\n",
      " \n",
      "Bead 1 : C4\n",
      "    AA indices : [ 5 12 13  6 14 15  7 16 17  8 18 19 20]\n",
      "    AA masses  : [12.01078   1.007947  1.007947 12.01078   1.007947  1.007947 12.01078\n",
      "  1.007947  1.007947 12.01078   1.007947  1.007947  1.007947]\n",
      " \n",
      "Bead 2 : Bpba\n",
      "    AA indices : [21 30 31 22 32 23 24 25]\n",
      "    AA masses  : [12.01078   1.007947  1.007947 12.01078   1.007947 12.01078  15.99943\n",
      " 15.99943 ]\n",
      " \n",
      "Bead 3 : C4\n",
      "    AA indices : [26 33 34 27 35 36 28 37 38 29 39 40 41]\n",
      "    AA masses  : [12.01078   1.007947  1.007947 12.01078   1.007947  1.007947 12.01078\n",
      "  1.007947  1.007947 12.01078   1.007947  1.007947  1.007947]\n",
      " \n",
      "Bead 4 : Bpba\n",
      "    AA indices : [42 51 52 43 53 44 45 46]\n",
      "    AA masses  : [12.01078   1.007947  1.007947 12.01078   1.007947 12.01078  15.99943\n",
      " 15.99943 ]\n",
      " \n",
      "Bead 5 : C4\n",
      "    AA indices : [47 54 55 48 56 57 49 58 59 50 60 61 62]\n",
      "    AA masses  : [12.01078   1.007947  1.007947 12.01078   1.007947  1.007947 12.01078\n",
      "  1.007947  1.007947 12.01078   1.007947  1.007947  1.007947]\n",
      " \n",
      "Bead 6 : Bpba\n",
      "    AA indices : [63 72 73 74 64 75 65 66 67]\n",
      "    AA masses  : [12.01078   1.007947  1.007947  1.007947 12.01078   1.007947 12.01078\n",
      " 15.99943  15.99943 ]\n",
      " \n",
      "Bead 7 : C4\n",
      "    AA indices : [68 76 77 69 78 79 70 80 81 71 82 83 84]\n",
      "    AA masses  : [12.01078   1.007947  1.007947 12.01078   1.007947  1.007947 12.01078\n",
      "  1.007947  1.007947 12.01078   1.007947  1.007947  1.007947]\n",
      " \n",
      "Bead 8 : Bpba\n",
      "    AA indices : [85 94 95 86 96 97 87 88 89]\n",
      "    AA masses  : [12.01078   1.007947  1.007947 12.01078   1.007947  1.007947 12.01078\n",
      " 15.99943  15.99943 ]\n",
      " \n",
      "Bead 9 : C4\n",
      "    AA indices : [ 90  98  99  91 100 101  92 102 103  93 104 105 106]\n",
      "    AA masses  : [12.01078   1.007947  1.007947 12.01078   1.007947  1.007947 12.01078\n",
      "  1.007947  1.007947 12.01078   1.007947  1.007947  1.007947]\n",
      " \n",
      "Bead 10 : Bpba\n",
      "    AA indices : [107 116 117 108 118 109 110 111]\n",
      "    AA masses  : [12.01078   1.007947  1.007947 12.01078   1.007947 12.01078  15.99943\n",
      " 15.99943 ]\n",
      " \n",
      "Bead 11 : C4\n",
      "    AA indices : [112 119 120 113 121 122 114 123 124 115 125 126 127]\n",
      "    AA masses  : [12.01078   1.007947  1.007947 12.01078   1.007947  1.007947 12.01078\n",
      "  1.007947  1.007947 12.01078   1.007947  1.007947  1.007947]\n",
      " \n",
      "Bead 12 : Bpba\n",
      "    AA indices : [128 137 138 129 139 130 131 132]\n",
      "    AA masses  : [12.01078   1.007947  1.007947 12.01078   1.007947 12.01078  15.99943\n",
      " 15.99943 ]\n",
      " \n",
      "Bead 13 : C4\n",
      "    AA indices : [133 140 141 134 142 143 135 144 145 136 146 147 148]\n",
      "    AA masses  : [12.01078   1.007947  1.007947 12.01078   1.007947  1.007947 12.01078\n",
      "  1.007947  1.007947 12.01078   1.007947  1.007947  1.007947]\n",
      " \n",
      "Bead 14 : Bpba\n",
      "    AA indices : [149 158 159 150 160 151 152 153]\n",
      "    AA masses  : [12.01078   1.007947  1.007947 12.01078   1.007947 12.01078  15.99943\n",
      " 15.99943 ]\n",
      " \n",
      "Bead 15 : C4\n",
      "    AA indices : [154 161 162 155 163 164 156 165 166 157 167 168 169]\n",
      "    AA masses  : [12.01078   1.007947  1.007947 12.01078   1.007947  1.007947 12.01078\n",
      "  1.007947  1.007947 12.01078   1.007947  1.007947  1.007947]\n",
      " \n",
      "Bead 16 : Bpba\n",
      "    AA indices : [170 179 180 181 171 182 172 173 174]\n",
      "    AA masses  : [12.01078   1.007947  1.007947  1.007947 12.01078   1.007947 12.01078\n",
      " 15.99943  15.99943 ]\n",
      " \n",
      "Bead 17 : C4\n",
      "    AA indices : [175 183 184 176 185 186 177 187 188 178 189 190 191]\n",
      "    AA masses  : [12.01078   1.007947  1.007947 12.01078   1.007947  1.007947 12.01078\n",
      "  1.007947  1.007947 12.01078   1.007947  1.007947  1.007947]\n",
      " \n",
      "Bead 18 : Bpba\n",
      "    AA indices : [192 201 202 193 203 204 194 195 196]\n",
      "    AA masses  : [12.01078   1.007947  1.007947 12.01078   1.007947  1.007947 12.01078\n",
      " 15.99943  15.99943 ]\n",
      " \n",
      "Bead 19 : C4\n",
      "    AA indices : [197 205 206 198 207 208 199 209 210 200 211 212 213]\n",
      "    AA masses  : [12.01078   1.007947  1.007947 12.01078   1.007947  1.007947 12.01078\n",
      "  1.007947  1.007947 12.01078   1.007947  1.007947  1.007947]\n",
      " \n",
      "Bead 20 : C4\n",
      "    AA indices : [214 226 227 228 215 229 230 216 231 232 217 233 234]\n",
      "    AA masses  : [12.01078   1.007947  1.007947  1.007947 12.01078   1.007947  1.007947\n",
      " 12.01078   1.007947  1.007947 12.01078   1.007947  1.007947]\n",
      " \n",
      "Bead 21 : C4\n",
      "    AA indices : [218 235 236 219 237 238 220 239 240 221 241 242]\n",
      "    AA masses  : [12.01078   1.007947  1.007947 12.01078   1.007947  1.007947 12.01078\n",
      "  1.007947  1.007947 12.01078   1.007947  1.007947]\n",
      " \n",
      "Bead 22 : C4\n",
      "    AA indices : [222 243 244 223 245 246 224 247 248 225 249 250 251]\n",
      "    AA masses  : [12.01078   1.007947  1.007947 12.01078   1.007947  1.007947 12.01078\n",
      "  1.007947  1.007947 12.01078   1.007947  1.007947  1.007947]\n",
      " \n",
      "Bead 23 : C4\n",
      "    AA indices : [252 264 265 266 253 267 268 254 269 270 255 271 272]\n",
      "    AA masses  : [12.01078   1.007947  1.007947  1.007947 12.01078   1.007947  1.007947\n",
      " 12.01078   1.007947  1.007947 12.01078   1.007947  1.007947]\n",
      " \n",
      "Bead 24 : C4\n",
      "    AA indices : [256 273 274 257 275 276 258 277 278 259 279 280]\n",
      "    AA masses  : [12.01078   1.007947  1.007947 12.01078   1.007947  1.007947 12.01078\n",
      "  1.007947  1.007947 12.01078   1.007947  1.007947]\n",
      " \n",
      "Bead 25 : C4\n",
      "    AA indices : [260 281 282 261 283 284 262 285 286 263 287 288 289]\n",
      "    AA masses  : [12.01078   1.007947  1.007947 12.01078   1.007947  1.007947 12.01078\n",
      "  1.007947  1.007947 12.01078   1.007947  1.007947  1.007947]\n",
      " \n",
      "Bead 26 : H2O\n",
      "    AA indices : [290 291 292]\n",
      "    AA masses  : [15.99943   1.007947  1.007947]\n",
      " \n",
      "Bead 27 : H2O\n",
      "    AA indices : [293 294 295]\n",
      "    AA masses  : [15.99943   1.007947  1.007947]\n",
      " \n"
     ]
    }
   ],
   "source": [
    "for bead in tm.cg_beads:\n",
    "    print(f\"Bead {bead.index} : {bead.name}\")\n",
    "    print(f\"    AA indices : {bead.aa_indices}\")\n",
    "    print(f\"    AA masses  : {bead.aa_masses}\")\n",
    "    print(\" \")"
   ]
  },
  {
   "cell_type": "markdown",
   "id": "5138183a",
   "metadata": {},
   "source": [
    "When iterating through CG bonds, each item is a tuple of `CGBead` objects."
   ]
  },
  {
   "cell_type": "code",
   "execution_count": 10,
   "id": "61d15875",
   "metadata": {},
   "outputs": [
    {
     "name": "stdout",
     "output_type": "stream",
     "text": [
      "0 6\n",
      "0 2\n",
      "0 1\n",
      "2 4\n",
      "2 3\n",
      "4 8\n",
      "4 5\n",
      "6 7\n",
      "8 9\n",
      "10 16\n",
      "10 12\n",
      "10 11\n",
      "12 14\n",
      "12 13\n",
      "14 18\n",
      "14 15\n",
      "16 17\n",
      "18 19\n",
      "20 21\n",
      "21 22\n",
      "23 24\n",
      "24 25\n"
     ]
    }
   ],
   "source": [
    "for bond in tm.cg_bonds:\n",
    "    print(bond[0].index, bond[1].index)"
   ]
  },
  {
   "cell_type": "markdown",
   "id": "95722721",
   "metadata": {},
   "source": [
    "If the `sim` module, developed by the Shell group at UCSB, is available, then the `TopologyMapper` object can be converted to objects used by `sim`."
   ]
  },
  {
   "cell_type": "code",
   "execution_count": 26,
   "id": "9c9f8d3d",
   "metadata": {},
   "outputs": [
    {
     "name": "stdout",
     "output_type": "stream",
     "text": [
      "sim module found\n",
      " \n",
      "['Bpba', 'C4', 'Bpba', 'C4', 'Bpba', 'C4', 'Bpba', 'C4', 'Bpba', 'C4', 'Bpba', 'C4', 'Bpba', 'C4', 'Bpba', 'C4', 'Bpba', 'C4', 'Bpba', 'C4', 'C4', 'C4', 'C4', 'C4', 'C4', 'C4', 'H2O', 'H2O']\n",
      " \n",
      "{'Bpba': Bpba, 'C4': C4, 'H2O': H2O}\n",
      " \n",
      "[0:[Bpba0, C41, Bpba2, C43, Bpba4, C45, Bpba6, C47, Bpba8, C49], 1:[C40, C41, C42], 2:[H2O0]]\n"
     ]
    }
   ],
   "source": [
    "# try importing sim\n",
    "try:\n",
    "    import sim\n",
    "    print(\"sim module found\")\n",
    "    print(\" \")\n",
    "except ModuleNotFoundError:\n",
    "    sim = None\n",
    "    print(\"sim module not found\")\n",
    "    \n",
    "if sim is not None:\n",
    "    # convert to sim\n",
    "    sim_topology = tm.to_sim()\n",
    "    AtomNames = sim_topology.AtomNames\n",
    "    AtomTypes = sim_topology.AtomTypes\n",
    "    MolTypes = sim_topology.MolTypes\n",
    "    PosMap = sim_topology.PosMap\n",
    "    World = sim_topology.World\n",
    "    System = sim_topology.System\n",
    "    \n",
    "    print(AtomNames)\n",
    "    print(\" \")\n",
    "    print(AtomTypes)\n",
    "    print(\" \")\n",
    "    print(MolTypes)"
   ]
  },
  {
   "cell_type": "code",
   "execution_count": null,
   "id": "37d6a33c",
   "metadata": {},
   "outputs": [],
   "source": []
  }
 ],
 "metadata": {
  "kernelspec": {
   "display_name": "Python 3 (ipykernel)",
   "language": "python",
   "name": "python3"
  },
  "language_info": {
   "codemirror_mode": {
    "name": "ipython",
    "version": 3
   },
   "file_extension": ".py",
   "mimetype": "text/x-python",
   "name": "python",
   "nbconvert_exporter": "python",
   "pygments_lexer": "ipython3",
   "version": "3.9.16"
  }
 },
 "nbformat": 4,
 "nbformat_minor": 5
}
