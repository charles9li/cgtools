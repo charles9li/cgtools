{
 "cells": [
  {
   "cell_type": "markdown",
   "id": "8711c910",
   "metadata": {},
   "source": [
    "## Mapping a united-atom (UA) atomistic topology to a coarse-grained topology\n",
    "\n",
    "In this example, we're going to learn how to use the TopologyMapper class to map a united-atom atomistic topology to a coarse-grained one."
   ]
  },
  {
   "cell_type": "code",
   "execution_count": 1,
   "id": "de4d51f5",
   "metadata": {},
   "outputs": [
    {
     "name": "stdout",
     "output_type": "stream",
     "text": [
      "> Preparing to load module geomlib\n",
      "> Compiling binary for source of module geomlib\n",
      "> Finished loading module geomlib (took 2.709 s)\n",
      "> Preparing to load module maplib\n",
      "> Compiling binary for source of module maplib\n",
      "> Finished loading module maplib (took 0.887 s)\n",
      "> openmm or mdtraj did not load; these features will not work!\n"
     ]
    }
   ],
   "source": [
    "import mdtraj as md\n",
    "\n",
    "from cgtools.mapping import TopologyMapper"
   ]
  },
  {
   "cell_type": "markdown",
   "id": "cc3c4fd9",
   "metadata": {},
   "source": [
    "Initialize a `TopologyMapper` object using either an `mdtraj.Topology` object or a path to a pdb file. The topology in this pdb file has two dodecane molecules and two poly butyl acrylate (PBA) 5-mers, "
   ]
  },
  {
   "cell_type": "code",
   "execution_count": 2,
   "id": "65200b08",
   "metadata": {},
   "outputs": [],
   "source": [
    "# using pdb file\n",
    "tm = TopologyMapper(\"solution.pdb\")\n",
    "\n",
    "# using mdtraj.Topology object\n",
    "top = md.load(\"solution.pdb\").topology\n",
    "tm = TopologyMapper(top)"
   ]
  },
  {
   "cell_type": "markdown",
   "id": "be91f050",
   "metadata": {},
   "source": [
    "Mapping a UA topology is similar to mapping an explicit-hydrogen topology, but because UA topologies use non-conventional atom types, we have to manually set masses of those atoms using the `set_atom_mass` method."
   ]
  },
  {
   "cell_type": "code",
   "execution_count": 3,
   "id": "c7cad818",
   "metadata": {},
   "outputs": [],
   "source": [
    "tm.set_atom_mass('_CH', 13.019)\n",
    "tm.set_atom_mass('_CH2', 14.027)\n",
    "tm.set_atom_mass('_CH3', 15.039)"
   ]
  },
  {
   "cell_type": "markdown",
   "id": "67ccb4d6",
   "metadata": {},
   "source": [
    "For the dodecane molecules, which are named `DOD` in the pdb file, we map them to a 3-bead model."
   ]
  },
  {
   "cell_type": "code",
   "execution_count": 4,
   "id": "017221f9",
   "metadata": {},
   "outputs": [],
   "source": [
    "tm.add_residue_map('DOD',\n",
    "                   ['C4', 'C4', 'C4'],\n",
    "                   n_heavy_atoms_per_cg_bead=[4, 4, 4])"
   ]
  },
  {
   "cell_type": "markdown",
   "id": "a9cf78e6",
   "metadata": {},
   "source": [
    "For the poly butyl acrylate 5-mers, each chain has 5 residues named `A4`, each of which represent a monomer in the chain.\n",
    "We map each monomer to two beads, where the acrylate group is represented by a bead named `Bpba` and the acrylate bead is represented by the same `C4` bead used in the dodecane."
   ]
  },
  {
   "cell_type": "code",
   "execution_count": 5,
   "id": "b2daef41",
   "metadata": {},
   "outputs": [],
   "source": [
    "tm.add_residue_map('A4',\n",
    "                   ['Bpba', 'C4'],\n",
    "                   n_heavy_atoms_per_cg_bead=[5, 4])"
   ]
  },
  {
   "cell_type": "markdown",
   "id": "3768173c",
   "metadata": {},
   "source": [
    "Once all of the mappings have been added, we can call the `create_map` method to create the mapping for the topology."
   ]
  },
  {
   "cell_type": "code",
   "execution_count": 6,
   "id": "65213814",
   "metadata": {},
   "outputs": [],
   "source": [
    "tm.create_map()"
   ]
  },
  {
   "cell_type": "markdown",
   "id": "d470008c",
   "metadata": {},
   "source": [
    "After the mapping is created, we can access information about the CG system with the attributes `cg_beads` and `cg_bonds`.\n",
    "The `cg_beads` attributes returns an iterator that iterates through `CGBead` objects. For each `CGBead` object, the `index` attribute indicates the index of the bead in the CG topology, the `name` attribute gives the name of the bead, and the `aa_indices` and `aa_masses` attributes give the indices of atoms in the AA topology that map to the bead and the masses of the atomistic atoms."
   ]
  },
  {
   "cell_type": "code",
   "execution_count": 7,
   "id": "78d8228e",
   "metadata": {},
   "outputs": [
    {
     "name": "stdout",
     "output_type": "stream",
     "text": [
      "Bead 0 : Bpba\n",
      "    AA indices : [0 1 2 3 4]\n",
      "    AA masses  : [15.039   13.019   12.01078 15.99943 15.99943]\n",
      " \n",
      "Bead 1 : C4\n",
      "    AA indices : [5 6 7 8]\n",
      "    AA masses  : [14.027 14.027 14.027 15.039]\n",
      " \n",
      "Bead 2 : Bpba\n",
      "    AA indices : [ 9 10 11 12 13]\n",
      "    AA masses  : [14.027   13.019   12.01078 15.99943 15.99943]\n",
      " \n",
      "Bead 3 : C4\n",
      "    AA indices : [14 15 16 17]\n",
      "    AA masses  : [14.027 14.027 14.027 15.039]\n",
      " \n",
      "Bead 4 : Bpba\n",
      "    AA indices : [18 19 20 21 22]\n",
      "    AA masses  : [14.027   13.019   12.01078 15.99943 15.99943]\n",
      " \n",
      "Bead 5 : C4\n",
      "    AA indices : [23 24 25 26]\n",
      "    AA masses  : [14.027 14.027 14.027 15.039]\n",
      " \n",
      "Bead 6 : Bpba\n",
      "    AA indices : [27 28 29 30 31]\n",
      "    AA masses  : [14.027   13.019   12.01078 15.99943 15.99943]\n",
      " \n",
      "Bead 7 : C4\n",
      "    AA indices : [32 33 34 35]\n",
      "    AA masses  : [14.027 14.027 14.027 15.039]\n",
      " \n",
      "Bead 8 : Bpba\n",
      "    AA indices : [36 37 38 39 40]\n",
      "    AA masses  : [14.027   14.027   12.01078 15.99943 15.99943]\n",
      " \n",
      "Bead 9 : C4\n",
      "    AA indices : [41 42 43 44]\n",
      "    AA masses  : [14.027 14.027 14.027 15.039]\n",
      " \n",
      "Bead 10 : Bpba\n",
      "    AA indices : [45 46 47 48 49]\n",
      "    AA masses  : [15.039   13.019   12.01078 15.99943 15.99943]\n",
      " \n",
      "Bead 11 : C4\n",
      "    AA indices : [50 51 52 53]\n",
      "    AA masses  : [14.027 14.027 14.027 15.039]\n",
      " \n",
      "Bead 12 : Bpba\n",
      "    AA indices : [54 55 56 57 58]\n",
      "    AA masses  : [14.027   13.019   12.01078 15.99943 15.99943]\n",
      " \n",
      "Bead 13 : C4\n",
      "    AA indices : [59 60 61 62]\n",
      "    AA masses  : [14.027 14.027 14.027 15.039]\n",
      " \n",
      "Bead 14 : Bpba\n",
      "    AA indices : [63 64 65 66 67]\n",
      "    AA masses  : [14.027   13.019   12.01078 15.99943 15.99943]\n",
      " \n",
      "Bead 15 : C4\n",
      "    AA indices : [68 69 70 71]\n",
      "    AA masses  : [14.027 14.027 14.027 15.039]\n",
      " \n",
      "Bead 16 : Bpba\n",
      "    AA indices : [72 73 74 75 76]\n",
      "    AA masses  : [14.027   13.019   12.01078 15.99943 15.99943]\n",
      " \n",
      "Bead 17 : C4\n",
      "    AA indices : [77 78 79 80]\n",
      "    AA masses  : [14.027 14.027 14.027 15.039]\n",
      " \n",
      "Bead 18 : Bpba\n",
      "    AA indices : [81 82 83 84 85]\n",
      "    AA masses  : [14.027   14.027   12.01078 15.99943 15.99943]\n",
      " \n",
      "Bead 19 : C4\n",
      "    AA indices : [86 87 88 89]\n",
      "    AA masses  : [14.027 14.027 14.027 15.039]\n",
      " \n",
      "Bead 20 : C4\n",
      "    AA indices : [90 91 92 93]\n",
      "    AA masses  : [15.039 14.027 14.027 14.027]\n",
      " \n",
      "Bead 21 : C4\n",
      "    AA indices : [94 95 96 97]\n",
      "    AA masses  : [14.027 14.027 14.027 14.027]\n",
      " \n",
      "Bead 22 : C4\n",
      "    AA indices : [ 98  99 100 101]\n",
      "    AA masses  : [14.027 14.027 14.027 15.039]\n",
      " \n",
      "Bead 23 : C4\n",
      "    AA indices : [102 103 104 105]\n",
      "    AA masses  : [15.039 14.027 14.027 14.027]\n",
      " \n",
      "Bead 24 : C4\n",
      "    AA indices : [106 107 108 109]\n",
      "    AA masses  : [14.027 14.027 14.027 14.027]\n",
      " \n",
      "Bead 25 : C4\n",
      "    AA indices : [110 111 112 113]\n",
      "    AA masses  : [14.027 14.027 14.027 15.039]\n",
      " \n"
     ]
    }
   ],
   "source": [
    "for bead in tm.cg_beads:\n",
    "    print(f\"Bead {bead.index} : {bead.name}\")\n",
    "    print(f\"    AA indices : {bead.aa_indices}\")\n",
    "    print(f\"    AA masses  : {bead.aa_masses}\")\n",
    "    print(\" \")"
   ]
  },
  {
   "cell_type": "markdown",
   "id": "5138183a",
   "metadata": {},
   "source": [
    "When iterating through CG bonds, each item is a tuple of `CGBead` objects."
   ]
  },
  {
   "cell_type": "code",
   "execution_count": 8,
   "id": "61d15875",
   "metadata": {},
   "outputs": [
    {
     "name": "stdout",
     "output_type": "stream",
     "text": [
      "0 2\n",
      "0 1\n",
      "2 4\n",
      "2 3\n",
      "4 6\n",
      "4 5\n",
      "6 8\n",
      "6 7\n",
      "8 9\n",
      "10 12\n",
      "10 11\n",
      "12 14\n",
      "12 13\n",
      "14 16\n",
      "14 15\n",
      "16 18\n",
      "16 17\n",
      "18 19\n",
      "20 21\n",
      "21 22\n",
      "23 24\n",
      "24 25\n"
     ]
    }
   ],
   "source": [
    "for bond in tm.cg_bonds:\n",
    "    print(bond[0].index, bond[1].index)"
   ]
  },
  {
   "cell_type": "markdown",
   "id": "95722721",
   "metadata": {},
   "source": [
    "If the `sim` module, which is developed by the Shell group at UCSB, is available, then the `TopologyMapper` object can be converted to objects used by `sim`."
   ]
  },
  {
   "cell_type": "code",
   "execution_count": 9,
   "id": "9c9f8d3d",
   "metadata": {},
   "outputs": [
    {
     "name": "stdout",
     "output_type": "stream",
     "text": [
      "sim module found\n",
      " \n",
      "['Bpba', 'C4', 'Bpba', 'C4', 'Bpba', 'C4', 'Bpba', 'C4', 'Bpba', 'C4', 'Bpba', 'C4', 'Bpba', 'C4', 'Bpba', 'C4', 'Bpba', 'C4', 'Bpba', 'C4', 'C4', 'C4', 'C4', 'C4', 'C4', 'C4']\n",
      " \n",
      "{'Bpba': Bpba, 'C4': C4}\n",
      " \n",
      "[0:[Bpba0, C41, Bpba2, C43, Bpba4, C45, Bpba6, C47, Bpba8, C49], 1:[C40, C41, C42]]\n"
     ]
    }
   ],
   "source": [
    "# try importing sim\n",
    "try:\n",
    "    import sim\n",
    "    print(\"sim module found\")\n",
    "    print(\" \")\n",
    "except ModuleNotFoundError:\n",
    "    sim = None\n",
    "    print(\"sim module not found\")\n",
    "    \n",
    "if sim is not None:\n",
    "    # convert to sim\n",
    "    sim_topology = tm.to_sim()\n",
    "    AtomNames = sim_topology.AtomNames\n",
    "    AtomTypes = sim_topology.AtomTypes\n",
    "    MolTypes = sim_topology.MolTypes\n",
    "    PosMap = sim_topology.PosMap\n",
    "    World = sim_topology.World\n",
    "    System = sim_topology.System\n",
    "    \n",
    "    print(AtomNames)\n",
    "    print(\" \")\n",
    "    print(AtomTypes)\n",
    "    print(\" \")\n",
    "    print(MolTypes)"
   ]
  }
 ],
 "metadata": {
  "kernelspec": {
   "display_name": "Python 3 (ipykernel)",
   "language": "python",
   "name": "python3"
  },
  "language_info": {
   "codemirror_mode": {
    "name": "ipython",
    "version": 3
   },
   "file_extension": ".py",
   "mimetype": "text/x-python",
   "name": "python",
   "nbconvert_exporter": "python",
   "pygments_lexer": "ipython3",
   "version": "3.9.16"
  }
 },
 "nbformat": 4,
 "nbformat_minor": 5
}
